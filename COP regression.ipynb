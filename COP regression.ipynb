{
 "cells": [
  {
   "cell_type": "code",
   "execution_count": 1,
   "metadata": {},
   "outputs": [],
   "source": [
    "import pandas as pd"
   ]
  },
  {
   "cell_type": "code",
   "execution_count": null,
   "outputs": [],
   "source": [
    "from google.colab import files\n",
    "uploaded = files.upload()"
   ],
   "metadata": {
    "collapsed": false,
    "pycharm": {
     "name": "#%%\n"
    }
   }
  },
  {
   "cell_type": "code",
   "execution_count": null,
   "outputs": [],
   "source": [
    "import io\n",
    "df = pd.read_csv(io.BytesIO(uploaded['Filename.csv']))# Dataset is now stored in a Pandas Dataframe"
   ],
   "metadata": {
    "collapsed": false,
    "pycharm": {
     "name": "#%%\n"
    }
   }
  },
  {
   "cell_type": "code",
   "execution_count": 3,
   "metadata": {},
   "outputs": [
    {
     "data": {
      "text/html": [
       "<div>\n",
       "<style scoped>\n",
       "    .dataframe tbody tr th:only-of-type {\n",
       "        vertical-align: middle;\n",
       "    }\n",
       "\n",
       "    .dataframe tbody tr th {\n",
       "        vertical-align: top;\n",
       "    }\n",
       "\n",
       "    .dataframe thead th {\n",
       "        text-align: right;\n",
       "    }\n",
       "</style>\n",
       "<table border=\"1\" class=\"dataframe\">\n",
       "  <thead>\n",
       "    <tr style=\"text-align: right;\">\n",
       "      <th></th>\n",
       "      <th>undefined</th>\n",
       "      <th>Before optimisation</th>\n",
       "      <th>Time</th>\n",
       "    </tr>\n",
       "  </thead>\n",
       "  <tbody>\n",
       "    <tr>\n",
       "      <td>0</td>\n",
       "      <td>394.436010</td>\n",
       "      <td>2.824903</td>\n",
       "      <td>2021-11-13 00:45:00</td>\n",
       "    </tr>\n",
       "    <tr>\n",
       "      <td>1</td>\n",
       "      <td>0.250412</td>\n",
       "      <td>0.034603</td>\n",
       "      <td>2021-11-13 03:00:00</td>\n",
       "    </tr>\n",
       "    <tr>\n",
       "      <td>2</td>\n",
       "      <td>826.058421</td>\n",
       "      <td>6.392970</td>\n",
       "      <td>2021-11-13 03:15:00</td>\n",
       "    </tr>\n",
       "    <tr>\n",
       "      <td>3</td>\n",
       "      <td>1092.980113</td>\n",
       "      <td>6.823626</td>\n",
       "      <td>2021-11-13 03:30:00</td>\n",
       "    </tr>\n",
       "    <tr>\n",
       "      <td>4</td>\n",
       "      <td>1218.426416</td>\n",
       "      <td>6.660659</td>\n",
       "      <td>2021-11-13 03:45:00</td>\n",
       "    </tr>\n",
       "  </tbody>\n",
       "</table>\n",
       "</div>"
      ],
      "text/plain": [
       "     undefined  Before optimisation                 Time\n",
       "0   394.436010             2.824903  2021-11-13 00:45:00\n",
       "1     0.250412             0.034603  2021-11-13 03:00:00\n",
       "2   826.058421             6.392970  2021-11-13 03:15:00\n",
       "3  1092.980113             6.823626  2021-11-13 03:30:00\n",
       "4  1218.426416             6.660659  2021-11-13 03:45:00"
      ]
     },
     "execution_count": 3,
     "metadata": {},
     "output_type": "execute_result"
    }
   ],
   "source": [
    "df.head()"
   ]
  },
  {
   "cell_type": "code",
   "execution_count": 4,
   "metadata": {},
   "outputs": [
    {
     "data": {
      "text/html": [
       "<div>\n",
       "<style scoped>\n",
       "    .dataframe tbody tr th:only-of-type {\n",
       "        vertical-align: middle;\n",
       "    }\n",
       "\n",
       "    .dataframe tbody tr th {\n",
       "        vertical-align: top;\n",
       "    }\n",
       "\n",
       "    .dataframe thead th {\n",
       "        text-align: right;\n",
       "    }\n",
       "</style>\n",
       "<table border=\"1\" class=\"dataframe\">\n",
       "  <thead>\n",
       "    <tr style=\"text-align: right;\">\n",
       "      <th></th>\n",
       "      <th>Cooling Load</th>\n",
       "      <th>Before optimisation</th>\n",
       "      <th>Time</th>\n",
       "    </tr>\n",
       "  </thead>\n",
       "  <tbody>\n",
       "    <tr>\n",
       "      <td>0</td>\n",
       "      <td>394.436010</td>\n",
       "      <td>2.824903</td>\n",
       "      <td>2021-11-13 00:45:00</td>\n",
       "    </tr>\n",
       "    <tr>\n",
       "      <td>1</td>\n",
       "      <td>0.250412</td>\n",
       "      <td>0.034603</td>\n",
       "      <td>2021-11-13 03:00:00</td>\n",
       "    </tr>\n",
       "    <tr>\n",
       "      <td>2</td>\n",
       "      <td>826.058421</td>\n",
       "      <td>6.392970</td>\n",
       "      <td>2021-11-13 03:15:00</td>\n",
       "    </tr>\n",
       "    <tr>\n",
       "      <td>3</td>\n",
       "      <td>1092.980113</td>\n",
       "      <td>6.823626</td>\n",
       "      <td>2021-11-13 03:30:00</td>\n",
       "    </tr>\n",
       "    <tr>\n",
       "      <td>4</td>\n",
       "      <td>1218.426416</td>\n",
       "      <td>6.660659</td>\n",
       "      <td>2021-11-13 03:45:00</td>\n",
       "    </tr>\n",
       "  </tbody>\n",
       "</table>\n",
       "</div>"
      ],
      "text/plain": [
       "   Cooling Load  Before optimisation                 Time\n",
       "0    394.436010             2.824903  2021-11-13 00:45:00\n",
       "1      0.250412             0.034603  2021-11-13 03:00:00\n",
       "2    826.058421             6.392970  2021-11-13 03:15:00\n",
       "3   1092.980113             6.823626  2021-11-13 03:30:00\n",
       "4   1218.426416             6.660659  2021-11-13 03:45:00"
      ]
     },
     "execution_count": 4,
     "metadata": {},
     "output_type": "execute_result"
    }
   ],
   "source": [
    "df.rename(columns={'undefined':'Cooling Load'}, inplace=True)\n",
    "df.head()"
   ]
  },
  {
   "cell_type": "code",
   "execution_count": 5,
   "metadata": {},
   "outputs": [],
   "source": [
    "import seaborn as sns"
   ]
  },
  {
   "cell_type": "code",
   "execution_count": 6,
   "metadata": {},
   "outputs": [
    {
     "data": {
      "text/plain": [
       "<matplotlib.axes._subplots.AxesSubplot at 0x11ec96e48>"
      ]
     },
     "execution_count": 6,
     "metadata": {},
     "output_type": "execute_result"
    },
    {
     "data": {
      "image/png": "[encoded data removed]",
      "text/plain": [
       "<Figure size 432x288 with 1 Axes>"
      ]
     },
     "metadata": {
      "needs_background": "light"
     },
     "output_type": "display_data"
    }
   ],
   "source": [
    "sns.scatterplot(x='Cooling Load', y='Before optimisation', data=df)"
   ]
  },
  {
   "cell_type": "code",
   "execution_count": 7,
   "metadata": {},
   "outputs": [],
   "source": [
    "from math import ceil\n",
    "import numpy as np\n",
    "from scipy import linalg\n",
    "\n",
    "\n",
    "def lowess(x, y, f=2. / 3., iter=3):\n",
    "    \"\"\"lowess(x, y, f=2./3., iter=3) -> yest\n",
    "    Lowess smoother: Robust locally weighted regression.\n",
    "    The lowess function fits a nonparametric regression curve to a scatterplot.\n",
    "    The arrays x and y contain an equal number of elements; each pair\n",
    "    (x[i], y[i]) defines a data point in the scatterplot. The function returns\n",
    "    the estimated (smooth) values of y.\n",
    "    The smoothing span is given by f. A larger value for f will result in a\n",
    "    smoother curve. The number of robustifying iterations is given by iter. The\n",
    "    function will run faster with a smaller number of iterations.\n",
    "    \"\"\"\n",
    "    n = len(x)\n",
    "    r = int(ceil(f * n))\n",
    "    h = [np.sort(np.abs(x - x[i]))[r] for i in range(n)]\n",
    "    w = np.clip(np.abs((x[:, None] - x[None, :]) / h), 0.0, 1.0)\n",
    "    w = (1 - w ** 3) ** 3\n",
    "    yest = np.zeros(n)\n",
    "    delta = np.ones(n)\n",
    "    for iteration in range(iter):\n",
    "        print(iteration)\n",
    "        for i in range(n):\n",
    "            weights = delta * w[:, i]\n",
    "            b = np.array([np.sum(weights * y), np.sum(weights * y * x)])\n",
    "            A = np.array([[np.sum(weights), np.sum(weights * x)],\n",
    "                          [np.sum(weights * x), np.sum(weights * x * x)]])\n",
    "            beta = linalg.solve(A, b)\n",
    "            yest[i] = beta[0] + beta[1] * x[i]\n",
    "\n",
    "        residuals = y - yest\n",
    "        s = np.median(np.abs(residuals))\n",
    "        delta = np.clip(residuals / (6.0 * s), -1, 1)\n",
    "        delta = (1 - delta ** 2) ** 2\n",
    "\n",
    "    return yest\n",
    "\n"
   ]
  },
  {
   "cell_type": "code",
   "execution_count": 8,
   "metadata": {},
   "outputs": [
    {
     "name": "stdout",
     "output_type": "stream",
     "text": [
      "0\n",
      "1\n",
      "2\n"
     ]
    }
   ],
   "source": [
    "yest = lowess(df['Cooling Load'], df['Before optimisation'], f=0.1)"
   ]
  },
  {
   "cell_type": "code",
   "execution_count": 9,
   "metadata": {},
   "outputs": [],
   "source": [
    "df['prediction'] = yest"
   ]
  },
  {
   "cell_type": "code",
   "execution_count": 10,
   "metadata": {},
   "outputs": [
    {
     "data": {
      "text/plain": [
       "<matplotlib.axes._subplots.AxesSubplot at 0x120f32630>"
      ]
     },
     "execution_count": 10,
     "metadata": {},
     "output_type": "execute_result"
    },
    {
     "data": {
      "image/png": "[encoded data removed]",
      "text/plain": [
       "<Figure size 432x288 with 1 Axes>"
      ]
     },
     "metadata": {
      "needs_background": "light"
     },
     "output_type": "display_data"
    }
   ],
   "source": [
    "sns.scatterplot(x='Cooling Load', y='Before optimisation', data=df)\n",
    "sns.scatterplot(x='Cooling Load', y='prediction', data=df)"
   ]
  },
  {
   "cell_type": "code",
   "execution_count": 11,
   "metadata": {},
   "outputs": [],
   "source": [
    "newdf = df.sort_values('Cooling Load').iloc[::10, :]"
   ]
  },
  {
   "cell_type": "code",
   "execution_count": 13,
   "metadata": {},
   "outputs": [],
   "source": [
    "df['Cooling Load (bins)'] = np.round((df['Cooling Load']/30.0))*30.0"
   ]
  },
  {
   "cell_type": "code",
   "execution_count": 14,
   "metadata": {},
   "outputs": [],
   "source": [
    "mean_df = df.groupby('Cooling Load (bins)').mean()\n"
   ]
  },
  {
   "cell_type": "code",
   "execution_count": 15,
   "metadata": {},
   "outputs": [],
   "source": [
    "mean_df['prediction'] = mean_df['prediction'].map(lambda x: x if x>0.1 else 0.1)"
   ]
  },
  {
   "cell_type": "code",
   "execution_count": 16,
   "metadata": {},
   "outputs": [
    {
     "name": "stdout",
     "output_type": "stream",
     "text": [
      "(x) => {\n",
      "if (x<1.260994){return 0.175625;}\n",
      "if (x>=1.260994 && x<131.628298){return 0.175625;}\n",
      "if (x>=131.628298 && x<190.804610){return 1.034925;}\n",
      "if (x>=190.804610 && x<227.072782){return 1.424349;}\n",
      "if (x>=227.072782 && x<298.782025){return 1.665034;}\n",
      "if (x>=298.782025 && x<393.262012){return 2.155875;}\n",
      "if (x>=393.262012 && x<416.871298){return 2.940069;}\n",
      "if (x>=416.871298 && x<482.199424){return 3.135142;}\n",
      "if (x>=482.199424 && x<534.057187){return 3.503134;}\n",
      "if (x>=534.057187 && x<605.953213){return 3.785451;}\n",
      "if (x>=605.953213 && x<624.678219){return 4.214460;}\n",
      "if (x>=624.678219 && x<645.024046){return 4.317841;}\n",
      "if (x>=645.024046 && x<693.955755){return 4.421490;}\n",
      "if (x>=693.955755 && x<721.339438){return 4.671006;}\n",
      "if (x>=721.339438 && x<748.507257){return 4.785114;}\n",
      "if (x>=748.507257 && x<781.198780){return 4.873257;}\n",
      "if (x>=781.198780 && x<810.569200){return 4.974217;}\n",
      "if (x>=810.569200 && x<840.639418){return 5.062497;}\n",
      "if (x>=840.639418 && x<870.972828){return 5.171691;}\n",
      "if (x>=870.972828 && x<900.523988){return 5.285683;}\n",
      "if (x>=900.523988 && x<931.110988){return 5.362514;}\n",
      "if (x>=931.110988 && x<959.221159){return 5.405520;}\n",
      "if (x>=959.221159 && x<991.469626){return 5.431466;}\n",
      "if (x>=991.469626 && x<1019.510052){return 5.442771;}\n",
      "if (x>=1019.510052 && x<1049.602710){return 5.471880;}\n",
      "if (x>=1049.602710 && x<1080.465240){return 5.524666;}\n",
      "if (x>=1080.465240 && x<1110.517295){return 5.564816;}\n",
      "if (x>=1110.517295 && x<1141.098220){return 5.614515;}\n",
      "if (x>=1141.098220 && x<1172.929124){return 5.636395;}\n",
      "if (x>=1172.929124 && x<1200.423431){return 5.676541;}\n",
      "if (x>=1200.423431 && x<1231.305638){return 5.726032;}\n",
      "if (x>=1231.305638 && x<1258.800285){return 5.783706;}\n",
      "if (x>=1258.800285 && x<1291.582675){return 5.805630;}\n",
      "if (x>=1291.582675 && x<1320.020797){return 5.817737;}\n",
      "if (x>=1320.020797 && x<1347.617683){return 5.850857;}\n",
      "if (x>=1347.617683 && x<1378.183155){return 5.907825;}\n",
      "if (x>=1378.183155 && x<1408.939845){return 5.980610;}\n",
      "if (x>=1408.939845 && x<1440.772414){return 6.012431;}\n",
      "if (x>=1440.772414 && x<1469.218641){return 6.051670;}\n",
      "if (x>=1469.218641 && x<1501.807380){return 6.092505;}\n",
      "if (x>=1501.807380 && x<1529.062594){return 6.130109;}\n",
      "if (x>=1529.062594 && x<1559.283746){return 6.148780;}\n",
      "if (x>=1559.283746 && x<1590.645284){return 6.154519;}\n",
      "if (x>=1590.645284 && x<1621.282117){return 6.158579;}\n",
      "if (x>=1621.282117 && x<1651.347448){return 6.121128;}\n",
      "if (x>=1651.347448 && x<1680.333953){return 6.048569;}\n",
      "if (x>=1680.333953 && x<1708.444025){return 5.963229;}\n",
      "if (x>=1708.444025 && x<1739.984043){return 5.947921;}\n",
      "if (x>=1739.984043 && x<1769.764940){return 5.993311;}\n",
      "if (x>=1769.764940 && x<1799.913430){return 6.028671;}\n",
      "if (x>=1799.913430 && x<1829.241000){return 6.029716;}\n",
      "if (x>=1829.241000 && x<1858.984937){return 6.009691;}\n",
      "if (x>=1858.984937 && x<1888.070654){return 5.992643;}\n",
      "if (x>=1888.070654 && x<1919.717752){return 6.011150;}\n",
      "if (x>=1919.717752 && x<1951.773579){return 6.051344;}\n",
      "if (x>=1951.773579 && x<1979.694397){return 6.090739;}\n",
      "if (x>=1979.694397 && x<2010.134670){return 6.129506;}\n",
      "if (x>=2010.134670 && x<2041.244526){return 6.173626;}\n",
      "if (x>=2041.244526 && x<2070.679655){return 6.212804;}\n",
      "if (x>=2070.679655 && x<2100.913376){return 6.243325;}\n",
      "if (x>=2100.913376 && x<2130.324427){return 6.263597;}\n",
      "if (x>=2130.324427 && x<2160.972230){return 6.269412;}\n",
      "if (x>=2160.972230 && x<2190.850472){return 6.259979;}\n",
      "if (x>=2190.850472 && x<2219.800857){return 6.238313;}\n",
      "if (x>=2219.800857 && x<2251.478764){return 6.208870;}\n",
      "if (x>=2251.478764 && x<2279.297942){return 6.171955;}\n",
      "if (x>=2279.297942 && x<2310.085273){return 6.139754;}\n",
      "if (x>=2310.085273 && x<2339.832650){return 6.105147;}\n",
      "if (x>=2339.832650 && x<2370.423840){return 6.067935;}\n",
      "if (x>=2370.423840 && x<2401.475838){return 6.026032;}\n",
      "if (x>=2401.475838 && x<2428.944046){return 5.982273;}\n",
      "if (x>=2428.944046 && x<2459.784343){return 5.941654;}\n",
      "if (x>=2459.784343 && x<2488.612956){return 5.895223;}\n",
      "if (x>=2488.612956 && x<2515.275265){return 5.850898;}\n",
      "if (x>=2515.275265 && x<2545.112559){return 5.809344;}\n",
      "if (x>=2545.112559 && x<2578.133874){return 5.762632;}\n",
      "if (x>=2578.133874 && x<2606.998650){return 5.710856;}\n",
      "if (x>=2606.998650 && x<2641.974080){return 5.665531;}\n",
      "if (x>=2641.974080 && x<2668.468167){return 5.610373;}\n",
      "if (x>=2668.468167 && x<2697.303858){return 5.568380;}\n",
      "if (x>=2697.303858 && x<2727.533869){return 5.522524;}\n",
      "if (x>=2727.533869 && x<2761.601321){return 5.474288;}\n",
      "if (x>=2761.601321 && x<2785.684602){return 5.419684;}\n",
      "return 5.419684;}\n"
     ]
    }
   ],
   "source": [
    "print('(x) => {')\n",
    "print('if (x<%f){return %f;}' % (mean_df['Cooling Load'].iloc[0], mean_df['prediction'].iloc[0]))\n",
    "for i in range(mean_df.shape[0]-1):\n",
    "    print('if (x>=%f && x<%f){return %f;}' % (mean_df['Cooling Load'].iloc[i], mean_df['Cooling Load'].iloc[i+1],mean_df['prediction'].iloc[i] ))\n",
    "print('return %f;}' % mean_df['prediction'].iloc[i])"
   ]
  },
  {
   "cell_type": "code",
   "execution_count": null,
   "metadata": {},
   "outputs": [],
   "source": []
  },
  {
   "cell_type": "code",
   "execution_count": null,
   "metadata": {},
   "outputs": [],
   "source": []
  }
 ],
 "metadata": {
  "kernelspec": {
   "display_name": "Python 3",
   "language": "python",
   "name": "python3"
  },
  "language_info": {
   "codemirror_mode": {
    "name": "ipython",
    "version": 3
   },
   "file_extension": ".py",
   "mimetype": "text/x-python",
   "name": "python",
   "nbconvert_exporter": "python",
   "pygments_lexer": "ipython3",
   "version": "3.6.8"
  }
 },
 "nbformat": 4,
 "nbformat_minor": 2
}